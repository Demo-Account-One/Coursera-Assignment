{
 "cells": [
  {
   "cell_type": "markdown",
   "id": "2b215af7-23de-4157-9228-f51b4b57f9d8",
   "metadata": {},
   "source": [
    "# DataScience Course Assignment\n",
    "\n",
    "In this file we will be looking at, Data Science Tools and Ecosystem.\n",
    "Most common and popular languages that DScientist uses are: Python, Julia, R\n",
    "And Libraries such as NumPy, Pandas, TensorFlow\n",
    "\n",
    "\n"
   ]
  },
  {
   "cell_type": "markdown",
   "id": "7ad00305-fa64-4b69-a7c2-7a9979855ba8",
   "metadata": {},
   "source": [
    "Important Languages:\n",
    "Python, Julia, R"
   ]
  },
  {
   "cell_type": "markdown",
   "id": "e1ec651e-1e08-4abf-aa85-844a77715c63",
   "metadata": {},
   "source": [
    "Important Libraries:\n",
    "NumPy, Pandas, TensorFlow"
   ]
  },
  {
   "cell_type": "code",
   "execution_count": 2,
   "id": "e5e0b991-a885-4210-8fcc-c81e11b419fe",
   "metadata": {},
   "outputs": [
    {
     "data": {
      "text/markdown": [
       "| Tool | Description |\n",
       "| --- | --- |\n",
       "| NumPy | Numerical computing library |\n",
       "| Pandas | Data manipulation and analysis library |\n",
       "| Matplotlib | Data visualization library |\n",
       "| Scikit-learn | Machine learning library |\n",
       "| TensorFlow | Open-source machine learning platform |\n",
       "| Keras | High-level neural networks API |\n",
       "| PyTorch | Open-source machine learning library |\n",
       "| Seaborn | Data visualization library |\n",
       "| SciPy | Scientific computing library |\n",
       "| NLTK | Natural language processing library |\n",
       "| Statsmodels | Statistical modeling library |"
      ],
      "text/plain": [
       "<IPython.core.display.Markdown object>"
      ]
     },
     "metadata": {},
     "output_type": "display_data"
    }
   ],
   "source": [
    "from IPython.display import Markdown, display\n",
    "\n",
    "table = \"| Tool | Description |\\n| --- | --- |\\n| NumPy | Numerical computing library |\\n| Pandas | Data manipulation and analysis library |\\n| Matplotlib | Data visualization library |\\n| Scikit-learn | Machine learning library |\\n| TensorFlow | Open-source machine learning platform |\\n| Keras | High-level neural networks API |\\n| PyTorch | Open-source machine learning library |\\n| Seaborn | Data visualization library |\\n| SciPy | Scientific computing library |\\n| NLTK | Natural language processing library |\\n| Statsmodels | Statistical modeling library |\"\n",
    "\n",
    "display(Markdown(table))"
   ]
  },
  {
   "cell_type": "code",
   "execution_count": 4,
   "id": "df2c6cff-6667-4de8-ae8b-84bab7bc5d00",
   "metadata": {},
   "outputs": [
    {
     "data": {
      "text/markdown": [
       "### Examples on evaluating arithmetic expressions in Python\n"
      ],
      "text/plain": [
       "<IPython.core.display.Markdown object>"
      ]
     },
     "metadata": {},
     "output_type": "display_data"
    }
   ],
   "source": [
    "from IPython.display import Markdown, display\n",
    "\n",
    "md = \"### Examples on evaluating arithmetic expressions in Python\\n\"\n",
    "\n",
    "display(Markdown(md))"
   ]
  },
  {
   "cell_type": "code",
   "execution_count": 6,
   "id": "4da066c6-6cfe-4abf-8f21-21ab6d35ddd4",
   "metadata": {},
   "outputs": [
    {
     "data": {
      "text/plain": [
       "-6928"
      ]
     },
     "execution_count": 6,
     "metadata": {},
     "output_type": "execute_result"
    }
   ],
   "source": [
    "(74934 + 9248 - 89378) * 4 // 3"
   ]
  },
  {
   "cell_type": "markdown",
   "id": "48dd68c9-d511-4d59-bfde-dee32b4ecbb9",
   "metadata": {},
   "source": [
    "Conversion of Minute into Hours"
   ]
  },
  {
   "cell_type": "code",
   "execution_count": 8,
   "id": "eefd67d3-604f-4976-b320-0444f734a7e7",
   "metadata": {},
   "outputs": [
    {
     "name": "stdout",
     "output_type": "stream",
     "text": [
      "Hours = 3.9166666666666665\n"
     ]
    }
   ],
   "source": [
    "time_min = 235\n",
    "\n",
    "time_hrs = time_min / 60\n",
    "\n",
    "print(\"Hours =\", time_hrs)"
   ]
  },
  {
   "cell_type": "markdown",
   "id": "30115fb1-baa5-4d73-8ed0-03e9da121f46",
   "metadata": {},
   "source": [
    "Objectives: C++, Julia, Python, R, JavaScript"
   ]
  },
  {
   "cell_type": "markdown",
   "id": "d89ad81c-1ab0-446a-9018-30d1473d0557",
   "metadata": {},
   "source": [
    "# Author Mayur Pagote"
   ]
  },
  {
   "cell_type": "code",
   "execution_count": null,
   "id": "3d1caa04-b32e-4582-bfa8-7cea46a40084",
   "metadata": {},
   "outputs": [],
   "source": []
  }
 ],
 "metadata": {
  "kernelspec": {
   "display_name": "Python 3 (ipykernel)",
   "language": "python",
   "name": "python3"
  },
  "language_info": {
   "codemirror_mode": {
    "name": "ipython",
    "version": 3
   },
   "file_extension": ".py",
   "mimetype": "text/x-python",
   "name": "python",
   "nbconvert_exporter": "python",
   "pygments_lexer": "ipython3",
   "version": "3.12.4"
  }
 },
 "nbformat": 4,
 "nbformat_minor": 5
}
